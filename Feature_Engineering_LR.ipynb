{
  "cells": [
    {
      "cell_type": "code",
      "execution_count": null,
      "id": "185388cf",
      "metadata": {
        "scrolled": true,
        "id": "185388cf",
        "outputId": "a5cfe872-629e-4d5c-c84b-9597b404e916"
      },
      "outputs": [
        {
          "name": "stdout",
          "output_type": "stream",
          "text": [
            "Requirement already satisfied: textblob in /opt/conda/miniconda3/lib/python3.11/site-packages (0.18.0.post0)\n",
            "Requirement already satisfied: nltk>=3.8 in /opt/conda/miniconda3/lib/python3.11/site-packages (from textblob) (3.8.2)\n",
            "Requirement already satisfied: click in /opt/conda/miniconda3/lib/python3.11/site-packages (from nltk>=3.8->textblob) (8.1.7)\n",
            "Requirement already satisfied: joblib in /opt/conda/miniconda3/lib/python3.11/site-packages (from nltk>=3.8->textblob) (1.4.2)\n",
            "Requirement already satisfied: regex>=2021.8.3 in /opt/conda/miniconda3/lib/python3.11/site-packages (from nltk>=3.8->textblob) (2023.12.25)\n",
            "Requirement already satisfied: tqdm in /opt/conda/miniconda3/lib/python3.11/site-packages (from nltk>=3.8->textblob) (4.65.0)\n",
            "\u001b[33mWARNING: Running pip as the 'root' user can result in broken permissions and conflicting behaviour with the system package manager. It is recommended to use a virtual environment instead: https://pip.pypa.io/warnings/venv\u001b[0m\u001b[33m\n",
            "\u001b[0mNote: you may need to restart the kernel to use updated packages.\n"
          ]
        }
      ],
      "source": [
        "%pip install textblob"
      ]
    },
    {
      "cell_type": "code",
      "execution_count": null,
      "id": "4df798dc",
      "metadata": {
        "id": "4df798dc",
        "outputId": "37431984-5279-4dc7-b579-f20a91bb04a1"
      },
      "outputs": [
        {
          "name": "stderr",
          "output_type": "stream",
          "text": [
            "                                                                                \r"
          ]
        },
        {
          "name": "stdout",
          "output_type": "stream",
          "text": [
            "+------------------+----------------------+------------------+-----------------------+------------------------------+-------------------------+------------------+--------------------+-----------------+--------+--------+---------+\n",
            "|              game|author_num_games_owned|author_num_reviews|author_playtime_forever|author_playtime_last_two_weeks|author_playtime_at_review|author_last_played|              review|timestamp_created|voted_up|votes_up|frequency|\n",
            "+------------------+----------------------+------------------+-----------------------+------------------------------+-------------------------+------------------+--------------------+-----------------+--------+--------+---------+\n",
            "|Grand Theft Auto V|                    88|                 6|                  40651|                             0|                    22829|        1690009614|ROCKSTAR!!!! WHY!...|       1498396971|       0|       1|   520192|\n",
            "|Grand Theft Auto V|                     0|                 6|                  23205|                             0|                    17715|        1658338170|ive played GTAV s...|       1498396964|       1|       2|   520192|\n",
            "|Grand Theft Auto V|                    37|                 3|                 687726|                             0|                   294100|        1692710732|I played this gam...|       1498396954|       0|       1|   520192|\n",
            "|Grand Theft Auto V|                     0|                17|                   9732|                             0|                     3246|        1627332181|         Bottle flip|       1498396901|       0|       1|   520192|\n",
            "|Grand Theft Auto V|                     0|                 3|                   2148|                             0|                     1408|        1558821250|Ruined..... just ...|       1498396630|       0|       1|   520192|\n",
            "+------------------+----------------------+------------------+-----------------------+------------------------------+-------------------------+------------------+--------------------+-----------------+--------+--------+---------+\n",
            "only showing top 5 rows\n",
            "\n"
          ]
        }
      ],
      "source": [
        "# Importing necessary libraries\n",
        "#from pyspark.sql import SparkSession\n",
        "from pyspark.sql.functions import col,  udf, abs, round, concat_ws, when\n",
        "from pyspark.ml.feature import Tokenizer, StopWordsRemover, StringIndexer, OneHotEncoder\n",
        "from pyspark.sql.types import StringType, DoubleType\n",
        "from pyspark.ml import Pipeline\n",
        "import re\n",
        "from textblob import TextBlob\n",
        "\n",
        "# Create a Spark session\n",
        "#spark = SparkSession.builder \\\n",
        "    #.appName(\"Steam Reviews Feature Engineering\") \\\n",
        "    #.getOrCreate()\n",
        "\n",
        "# Define paths for reading and saving data\n",
        "cleaned_reviews_path = \"gs://my-bigdata-project-bl/cleaned/top_300_reviews.parquet\"\n",
        "trusted_data_path = \"gs://my-bigdata-project-bl/trusted/\"\n",
        "\n",
        "# Read the filtered reviews data from the cleaned folder\n",
        "reviews_df = spark.read.parquet(cleaned_reviews_path)\n",
        "\n",
        "# Show the first few rows to understand the structure\n",
        "reviews_df.show(5)"
      ]
    },
    {
      "cell_type": "code",
      "execution_count": null,
      "id": "5ecb0b8e",
      "metadata": {
        "scrolled": true,
        "id": "5ecb0b8e",
        "outputId": "379cbadf-0cf9-4ac6-eb5e-acbc798c6639"
      },
      "outputs": [
        {
          "name": "stderr",
          "output_type": "stream",
          "text": [
            "\r",
            "[Stage 2:>                                                          (0 + 1) / 1]\r"
          ]
        },
        {
          "name": "stdout",
          "output_type": "stream",
          "text": [
            "+------------------+------------------+-----------------+--------------------+\n",
            "|              game|author_last_played|timestamp_created|days_since_last_play|\n",
            "+------------------+------------------+-----------------+--------------------+\n",
            "|Grand Theft Auto V|        1690009614|       1498396971|              2218.0|\n",
            "|Grand Theft Auto V|        1658338170|       1498396964|              1851.0|\n",
            "|Grand Theft Auto V|        1692710732|       1498396954|              2249.0|\n",
            "|Grand Theft Auto V|        1627332181|       1498396901|              1492.0|\n",
            "|Grand Theft Auto V|        1558821250|       1498396630|               699.0|\n",
            "+------------------+------------------+-----------------+--------------------+\n",
            "only showing top 5 rows\n",
            "\n"
          ]
        },
        {
          "name": "stderr",
          "output_type": "stream",
          "text": [
            "\r",
            "                                                                                \r"
          ]
        }
      ],
      "source": [
        "# Calculate the difference in days between 'author_last_played' and 'timestamp_created'\n",
        "reviews_df = reviews_df.withColumn(\n",
        "    \"days_since_last_play\",\n",
        "    round(abs((col(\"timestamp_created\") - col(\"author_last_played\")) / (60 * 60 * 24)))) # Converts from minutes to days\n",
        "\n",
        "# Check the new feature\n",
        "reviews_df.select(\"game\", \"author_last_played\", \"timestamp_created\", \"days_since_last_play\").show(5)"
      ]
    },
    {
      "cell_type": "code",
      "execution_count": null,
      "id": "e1c2b866",
      "metadata": {
        "scrolled": false,
        "id": "e1c2b866"
      },
      "outputs": [],
      "source": [
        "# Text Preprocessing\n",
        "\n",
        "# Expand contractions\n",
        "def expand_contractions(text):\n",
        "    contractions = {\n",
        "        \"isn't\": \"is not\", \"aren't\": \"are not\", \"can't\": \"cannot\",\n",
        "        \"won't\": \"will not\", \"i'm\": \"i am\", \"i've\": \"i have\", \"i'd\": \"i would\",\n",
        "        \"it's\": \"it is\", \"didn't\": \"did not\", \"ive\": \"i have\", \"id\": \"i would\",\n",
        "        \"you're\": \"you are\", \"we're\": \"we are\", \"they're\": \"they are\"\n",
        "    }\n",
        "    for contraction, expanded in contractions.items():\n",
        "        text = re.sub(r\"\\b\" + re.escape(contraction) + r\"\\b\", expanded, text, flags=re.IGNORECASE)\n",
        "    return text\n",
        "\n",
        "# Clean text (remove special characters, numbers, and lowercase)\n",
        "def clean_text(text):\n",
        "    if text is None:\n",
        "        return None\n",
        "    text = text.lower()  # Convert to lowercase\n",
        "    text = expand_contractions(text)  # Expand contractions\n",
        "    text = re.sub(r\"[^a-z\\s]\", \"\", text)  # Remove non-alphabetic characters\n",
        "    return text.strip()"
      ]
    },
    {
      "cell_type": "code",
      "execution_count": null,
      "id": "8ec5942a",
      "metadata": {
        "scrolled": false,
        "id": "8ec5942a",
        "outputId": "f9d28c14-d6d7-456a-8f41-19ebcc9c5f80"
      },
      "outputs": [
        {
          "name": "stderr",
          "output_type": "stream",
          "text": [
            "\r",
            "[Stage 3:>                                                          (0 + 1) / 1]\r"
          ]
        },
        {
          "name": "stdout",
          "output_type": "stream",
          "text": [
            "+------------------+--------------------+--------------------+--------------------+\n",
            "|              game|      cleaned_review|     filtered_review|      filtered_words|\n",
            "+------------------+--------------------+--------------------+--------------------+\n",
            "|Grand Theft Auto V|rockstar why rest...|rockstar rest pat...|[rockstar, rest, ...|\n",
            "|Grand Theft Auto V|i have played gta...|played gtav since...|[played, gtav, si...|\n",
            "|Grand Theft Auto V|i played this gam...|played game  hour...|[played, game, , ...|\n",
            "|Grand Theft Auto V|         bottle flip|         bottle flip|      [bottle, flip]|\n",
            "|Grand Theft Auto V|  ruined just ruined|       ruined ruined|    [ruined, ruined]|\n",
            "+------------------+--------------------+--------------------+--------------------+\n",
            "only showing top 5 rows\n",
            "\n"
          ]
        },
        {
          "name": "stderr",
          "output_type": "stream",
          "text": [
            "\r",
            "                                                                                \r"
          ]
        }
      ],
      "source": [
        "# Register the UDF for text cleaning\n",
        "clean_text_udf = udf(clean_text, StringType())\n",
        "\n",
        "# Apply the UDF to clean the reviews in the DataFrame\n",
        "reviews_df = reviews_df.withColumn(\"cleaned_review\", clean_text_udf(reviews_df[\"review\"]))\n",
        "\n",
        "# Tokenize the cleaned reviews into words\n",
        "tokenizer = Tokenizer(inputCol=\"cleaned_review\", outputCol=\"words\")\n",
        "reviews_df = tokenizer.transform(reviews_df)\n",
        "\n",
        "# Remove stop words\n",
        "stop_words_remover = StopWordsRemover(inputCol=\"words\", outputCol=\"filtered_words\")\n",
        "reviews_df = stop_words_remover.transform(reviews_df)\n",
        "\n",
        "# Reconstruct the cleaned text without stop words\n",
        "# Use concat_ws to join the words into a single string\n",
        "reviews_df = reviews_df.withColumn(\"filtered_review\", concat_ws(\" \", col(\"filtered_words\")))\n",
        "\n",
        "# Verify the results\n",
        "reviews_df.select(\"game\", \"cleaned_review\", \"filtered_review\", \"filtered_words\").show(5)"
      ]
    },
    {
      "cell_type": "code",
      "execution_count": null,
      "id": "8997f9c4",
      "metadata": {
        "scrolled": true,
        "id": "8997f9c4",
        "outputId": "b68f7525-2b3c-4056-c52a-2b9243f262aa"
      },
      "outputs": [
        {
          "name": "stderr",
          "output_type": "stream",
          "text": [
            "\r",
            "[Stage 4:>                                                          (0 + 1) / 1]\r"
          ]
        },
        {
          "name": "stdout",
          "output_type": "stream",
          "text": [
            "+------------------+------------------------------------------------------------------------------------------------------------------------------------------------------------------------------------------------------------------------------------------------------------------------------------------------------------------------------------------------------------------------------------------------------------------------------------------------------------------------------------------------------------------------------------------------------------------------------------------------------------------------------------------------------------------------------------------------------------------------------------------------------------------------------------------------------------------------------------------------------------------------------------------------------------------------------------------------------------------------------------------------------------------------------------------------------------------------------------------------------------------------------------------------------------------------------------------------------------------------------------------------------------------------------------------------------------------------------------------------------------------------------------------------------------------------------------------------------------------------------------------------------------------------------------------------------------------------------------------------------------------------------------------------------------------------------------------------------------------------------------------------------------------------------------------------------------------------------------------------------------------+--------------------+\n",
            "|game              |review                                                                                                                                                                                                                                                                                                                                                                                                                                                                                                                                                                                                                                                                                                                                                                                                                                                                                                                                                                                                                                                                                                                                                                                                                                                                                                                                                                                                                                                                                                                                                                                                                                                                                                                                                                                                                                                            |sentiment_score     |\n",
            "+------------------+------------------------------------------------------------------------------------------------------------------------------------------------------------------------------------------------------------------------------------------------------------------------------------------------------------------------------------------------------------------------------------------------------------------------------------------------------------------------------------------------------------------------------------------------------------------------------------------------------------------------------------------------------------------------------------------------------------------------------------------------------------------------------------------------------------------------------------------------------------------------------------------------------------------------------------------------------------------------------------------------------------------------------------------------------------------------------------------------------------------------------------------------------------------------------------------------------------------------------------------------------------------------------------------------------------------------------------------------------------------------------------------------------------------------------------------------------------------------------------------------------------------------------------------------------------------------------------------------------------------------------------------------------------------------------------------------------------------------------------------------------------------------------------------------------------------------------------------------------------------+--------------------+\n",
            "|Grand Theft Auto V|ROCKSTAR!!!! WHY!!!!! rest in patches openIV...                                                                                                                                                                                                                                                                                                                                                                                                                                                                                                                                                                                                                                                                                                                                                                                                                                                                                                                                                                                                                                                                                                                                                                                                                                                                                                                                                                                                                                                                                                                                                                                                                                                                                                                                                                                                                   |0.0                 |\n",
            "|Grand Theft Auto V|ive played GTAV since it released 4 years ago on the xbox 360 and i really do enjoy the game. unlike GtaIV there is things to do in the multiplayer.the single player has a great story and possibly one of my favorite stories in any game ever. dont listen to the reviews as of late, its honestly just a bunch of butthurt players crying because take two is trying to get rid of online modding software. yes they did take out OpenIV, but they retracted their stance and you can use OpenIV again now.                                                                                                                                                                                                                                                                                                                                                                                                                                                                                                                                                                                                                                                                                                                                                                                                                                                                                                                                                                                                                                                                                                                                                                                                                                                                                                                                                   |0.09285714285714286 |\n",
            "|Grand Theft Auto V|I played this game for more than 5000 hours on steam,no cheating and no modding ever,got a character1 lv683,character2 lv318 and my deposit 413M dollars.But today it has been banned for a month and all the things will be resetted,I think this is for NO REASON.                                                                                                                                                                                                                                                                                                                                                                                                                                                                                                                                                                                                                                                                                                                                                                                                                                                                                                                                                                                                                                                                                                                                                                                                                                                                                                                                                                                                                                                                                                                                                                                              |-0.4                |\n",
            "|Grand Theft Auto V|Bottle flip                                                                                                                                                                                                                                                                                                                                                                                                                                                                                                                                                                                                                                                                                                                                                                                                                                                                                                                                                                                                                                                                                                                                                                                                                                                                                                                                                                                                                                                                                                                                                                                                                                                                                                                                                                                                                                                       |0.0                 |\n",
            "|Grand Theft Auto V|Ruined..... just ruined..                                                                                                                                                                                                                                                                                                                                                                                                                                                                                                                                                                                                                                                                                                                                                                                                                                                                                                                                                                                                                                                                                                                                                                                                                                                                                                                                                                                                                                                                                                                                                                                                                                                                                                                                                                                                                                         |0.0                 |\n",
            "|Grand Theft Auto V|Online is so nothing now you people ruined it                                                                                                                                                                                                                                                                                                                                                                                                                                                                                                                                                                                                                                                                                                                                                                                                                                                                                                                                                                                                                                                                                                                                                                                                                                                                                                                                                                                                                                                                                                                                                                                                                                                                                                                                                                                                                     |0.0                 |\n",
            "|Grand Theft Auto V|this game so funny                                                                                                                                                                                                                                                                                                                                                                                                                                                                                                                                                                                                                                                                                                                                                                                                                                                                                                                                                                                                                                                                                                                                                                                                                                                                                                                                                                                                                                                                                                                                                                                                                                                                                                                                                                                                                                                |-0.07500000000000001|\n",
            "|Grand Theft Auto V|RIP OpenIV                                                                                                                                                                                                                                                                                                                                                                                                                                                                                                                                                                                                                                                                                                                                                                                                                                                                                                                                                                                                                                                                                                                                                                                                                                                                                                                                                                                                                                                                                                                                                                                                                                                                                                                                                                                                                                                        |0.0                 |\n",
            "|Grand Theft Auto V|oof                                                                                                                                                                                                                                                                                                                                                                                                                                                                                                                                                                                                                                                                                                                                                                                                                                                                                                                                                                                                                                                                                                                                                                                                                                                                                                                                                                                                                                                                                                                                                                                                                                                                                                                                                                                                                                                               |0.0                 |\n",
            "|Grand Theft Auto V|OpenIV                                                                                                                                                                                                                                                                                                                                                                                                                                                                                                                                                                                                                                                                                                                                                                                                                                                                                                                                                                                                                                                                                                                                                                                                                                                                                                                                                                                                                                                                                                                                                                                                                                                                                                                                                                                                                                                            |0.0                 |\n",
            "|Grand Theft Auto V|Absolutely rediculous that you would take away our creative freedom. This is supposed to be a sandbox and the fact that you would ruin something that has been doing well for a long time is honestly astonishing!  Edit: Changed back to recommended since Rockstar actually stood up for us.                                                                                                                                                                                                                                                                                                                                                                                                                                                                                                                                                                                                                                                                                                                                                                                                                                                                                                                                                                                                                                                                                                                                                                                                                                                                                                                                                                                                                                                                                                                                                                    |0.19166666666666665 |\n",
            "|Grand Theft Auto V|\"After seeing Rockstar recently take a step back from their cease & desist to Open IV I thought I might purchase the game to play.  So as GTA V went on sale during the Steam Summer Sale I picked up myself a copy of the game. Downloaded the 70GB of game files and then started it up to check that it all runs smoothly. Played single player for about an hour, played online for about an hour then turned it all off.  Pick it up again 2 days later, playing through the story mode (note at this point the game appeared to be running no issues) until my friend comes home to play online. I log out for 10 mins. When I log back in I have a 30 day Ban from playing online. I'm sure you can understand my frustration.  So what do I do? I jump online to see that FalseBans are serious problem with Rockstar in the past. Now I'm really feeling like crap. I call up Rockstar support, the first guy just hangs up after I give him my name, guess he couldn't really be bothered working today. I ring again, explain I just brought the game, installed, logged in and got banned, this second guy Ryan just start blurting out about banned account, nothing he can do, etc. So I ask to speak to his supervisor... he just hangs up on me. Ring again, Katrina this time, I just explain I can't even log in to play game, she starts the same spiel about banned accounts. So I say \"\"You're telling me you just sold me a Banned copy of the game? Because as soon as I started it up it's been banned\"\". Hang's up. Some customer service that is.  I've seen a few posts on FalseBans but they are all from last year sometime. It appears they are still doing it. Are there others out there experiencing the same issues? Or is there anything new we can do to fix this?  To be honest this is right fucked up and essentially theft|-0.0815244279529994 |\n",
            "|Grand Theft Auto V|The best game ever, best open world                                                                                                                                                                                                                                                                                                                                                                                                                                                                                                                                                                                                                                                                                                                                                                                                                                                                                                                                                                                                                                                                                                                                                                                                                                                                                                                                                                                                                                                                                                                                                                                                                                                                                                                                                                                                                               |0.4                 |\n",
            "|Grand Theft Auto V|openiv is gone so the game is shit                                                                                                                                                                                                                                                                                                                                                                                                                                                                                                                                                                                                                                                                                                                                                                                                                                                                                                                                                                                                                                                                                                                                                                                                                                                                                                                                                                                                                                                                                                                                                                                                                                                                                                                                                                                                                                |-0.30000000000000004|\n",
            "|Grand Theft Auto V|Not cool Rockstar, you were supposed to be an example of good developer, not a greedy psycho!                                                                                                                                                                                                                                                                                                                                                                                                                                                                                                                                                                                                                                                                                                                                                                                                                                                                                                                                                                                                                                                                                                                                                                                                                                                                                                                                                                                                                                                                                                                                                                                                                                                                                                                                                                     |0.5249999999999999  |\n",
            "|Grand Theft Auto V|\"5/10  I'm struggling to understand the praise for what is easily the most over-hyped video game I have ever played. It's little more than a bunch of mediocre game mechanics thrown into one package.  - [b]It's not a good shooter.[/b] Weapons lack impact, \"\"ooph\"\"                                                                                                                                                                                                                                                                                                                                                                                                                                                                                                                                                                                                                                                                                                                                                                                                                                                                                                                                                                                                                                                                                                                                                                                                                                                                                                                                                                                                                                                                                                                                                                                           |-0.05902777777777779|\n",
            "|Grand Theft Auto V|thanks for banning Openiv faggots                                                                                                                                                                                                                                                                                                                                                                                                                                                                                                                                                                                                                                                                                                                                                                                                                                                                                                                                                                                                                                                                                                                                                                                                                                                                                                                                                                                                                                                                                                                                                                                                                                                                                                                                                                                                                                 |0.2                 |\n",
            "|Grand Theft Auto V|They ban you for getting modded money dropped on you in GTA Online now. Didn't happen to me, but other people have been banned for this.                                                                                                                                                                                                                                                                                                                                                                                                                                                                                                                                                                                                                                                                                                                                                                                                                                                                                                                                                                                                                                                                                                                                                                                                                                                                                                                                                                                                                                                                                                                                                                                                                                                                                                                          |0.0                 |\n",
            "|Grand Theft Auto V|\"So i've read some so-called reviews here..  But after playing some 750 hours, both online and Single Player, i think it's safe to say, that most of the time, i enjoy this game alot.  Sure, it has some bugs and glitches, as all other games have, some are fun, very few are hilarious, alot however are infuriating.  That being said, alot of the latest so-called reviews, are based purely on the fact, that Rockstar finally have made efforts to stop modders, screwing up the online part of the game, for the rest of us honest players. People tend to believe that game developers, open up their hard work for modders. Sure it can be fun i guess, but the fact is that the developers fucking write when starting up the game, that modding is not allowed. So how can you believe that you can mod the shit out of the game, and not expect repercussions?  The online part of the game has been raped time, and time again, by people who cheat only to mess around with other players. It makes a game (series) that i have always loved, terrible!  I really appreciate the work by Rockstar, making this game and making all these \"\"DLC's\"\" for free! Sure                                                                                                                                                                                                                                                                                                                                                                                                                                                                                                                                                                                                                                                                                 |0.005339105339105337|\n",
            "|Grand Theft Auto V|Rockstar created a beautiful world with great mechanics. Even the assets like vehicles and everything inhabiting Los Santos are the best gaming has has to offer. But from there it falls flat... Singleplayer is great for what it is - but it lacks endgame content and uses like 10% of what the world has to offer. You feel that it was created for extensions that never followed. But the worst ist GTA:O... I won't mind the grind to build up money, I think it is nicely balanced to put thought in how you invest your money. But it is essentially broken with hackers running wild and no one to stop them. Now they finally take action - but how? They limit the possibilities of legit players and take away the base for a healthy modding community, while hackers are still grieving free-mode. Modding is the Reason why games Half-Life and Skyrim are still played today. Rockstar decided to trash their customers for a quick cash-grab. The gaming community never forgets and almost never forgives...                                                                                                                                                                                                                                                                                                                                                                                                                                                                                                                                                                                                                                                                                                                                                                                                                                  |0.2041666666666667  |\n",
            "+------------------+------------------------------------------------------------------------------------------------------------------------------------------------------------------------------------------------------------------------------------------------------------------------------------------------------------------------------------------------------------------------------------------------------------------------------------------------------------------------------------------------------------------------------------------------------------------------------------------------------------------------------------------------------------------------------------------------------------------------------------------------------------------------------------------------------------------------------------------------------------------------------------------------------------------------------------------------------------------------------------------------------------------------------------------------------------------------------------------------------------------------------------------------------------------------------------------------------------------------------------------------------------------------------------------------------------------------------------------------------------------------------------------------------------------------------------------------------------------------------------------------------------------------------------------------------------------------------------------------------------------------------------------------------------------------------------------------------------------------------------------------------------------------------------------------------------------------------------------------------------------+--------------------+\n",
            "only showing top 20 rows\n",
            "\n"
          ]
        },
        {
          "name": "stderr",
          "output_type": "stream",
          "text": [
            "\r",
            "                                                                                \r"
          ]
        }
      ],
      "source": [
        "# Define the sentiment analysis function using TextBlob\n",
        "def sentiment_analysis(review_text):\n",
        "    try:\n",
        "        sentiment = TextBlob(review_text).sentiment.polarity  # Get sentiment polarity\n",
        "    except:\n",
        "        sentiment = 0.0  # Fallback to neutral sentiment\n",
        "    return sentiment\n",
        "\n",
        "# Register the sentiment analysis function as a UDF\n",
        "sentiment_analysis_udf = udf(sentiment_analysis, DoubleType())\n",
        "\n",
        "# Apply the sentiment analysis function to the cleaned reviews and create a new column for sentiment score\n",
        "reviews_df = reviews_df.withColumn(\"sentiment_score\", sentiment_analysis_udf(reviews_df[\"filtered_review\"]))\n",
        "\n",
        "# Show the results including the sentiment score\n",
        "reviews_df.select(\"game\", \"review\", \"sentiment_score\").show(truncate=False)"
      ]
    },
    {
      "cell_type": "code",
      "execution_count": null,
      "id": "6fdc464a",
      "metadata": {
        "scrolled": false,
        "id": "6fdc464a",
        "outputId": "8b05b732-b9ff-4a04-d539-acfcb883cacc"
      },
      "outputs": [
        {
          "name": "stdout",
          "output_type": "stream",
          "text": [
            "root\n",
            " |-- game: string (nullable = true)\n",
            " |-- author_num_games_owned: integer (nullable = true)\n",
            " |-- author_num_reviews: integer (nullable = true)\n",
            " |-- author_playtime_forever: integer (nullable = true)\n",
            " |-- author_playtime_last_two_weeks: integer (nullable = true)\n",
            " |-- author_playtime_at_review: integer (nullable = true)\n",
            " |-- author_last_played: long (nullable = true)\n",
            " |-- review: string (nullable = true)\n",
            " |-- timestamp_created: long (nullable = true)\n",
            " |-- voted_up: integer (nullable = true)\n",
            " |-- votes_up: integer (nullable = true)\n",
            " |-- frequency: long (nullable = true)\n",
            " |-- days_since_last_play: double (nullable = true)\n",
            " |-- cleaned_review: string (nullable = true)\n",
            " |-- words: array (nullable = true)\n",
            " |    |-- element: string (containsNull = true)\n",
            " |-- filtered_words: array (nullable = true)\n",
            " |    |-- element: string (containsNull = true)\n",
            " |-- filtered_review: string (nullable = false)\n",
            " |-- sentiment_score: double (nullable = true)\n",
            "\n"
          ]
        }
      ],
      "source": [
        "# Print out schema\n",
        "reviews_df.printSchema()"
      ]
    },
    {
      "cell_type": "code",
      "execution_count": null,
      "id": "3dad40e2",
      "metadata": {
        "id": "3dad40e2",
        "outputId": "29ab92a4-fb88-4e20-9a7c-6dc3f4a16299"
      },
      "outputs": [
        {
          "name": "stderr",
          "output_type": "stream",
          "text": [
            "[Stage 11:======================================================> (31 + 1) / 32]\r"
          ]
        },
        {
          "name": "stdout",
          "output_type": "stream",
          "text": [
            "+----------+-----------------+----------------------+------------------+-----------------------+------------------------------+-------------------------+--------------------+--------------------+----------+\n",
            "|game_index|      game_onehot|author_num_games_owned|author_num_reviews|author_playtime_forever|author_playtime_last_two_weeks|author_playtime_at_review|days_since_last_play|     sentiment_score|  voted_up|\n",
            "+----------+-----------------+----------------------+------------------+-----------------------+------------------------------+-------------------------+--------------------+--------------------+----------+\n",
            "|     184.0|(299,[184],[1.0])|                  77.0|               9.0|                  828.0|                           0.0|                    828.0|              1480.0|-0.07500000000000001|         0|\n",
            "|     184.0|(299,[184],[1.0])|                 193.0|               8.0|                 3136.0|                           0.0|                    714.0|                13.0| 0.09999999999999998|         1|\n",
            "|     184.0|(299,[184],[1.0])|                   0.0|               3.0|                48343.0|                           0.0|                  16317.0|               234.0|               0.125|         1|\n",
            "|     184.0|(299,[184],[1.0])|                   0.0|               1.0|                  915.0|                           0.0|                    859.0|               199.0|               0.275|         1|\n",
            "|     184.0|(299,[184],[1.0])|                   0.0|               4.0|                67842.0|                        2980.0|                  60927.0|               304.0| 0.13333333333333333|         1|\n",
            "|     184.0|(299,[184],[1.0])|                   0.0|               1.0|                  347.0|                           0.0|                    265.0|               200.0|               -0.15|         1|\n",
            "|     184.0|(299,[184],[1.0])|                   0.0|               1.0|                 8252.0|                           0.0|                   4255.0|               319.0|                 0.0|         1|\n",
            "|     184.0|(299,[184],[1.0])|                   0.0|              13.0|                10397.0|                          20.0|                   8932.0|               432.0|-0.03976556776556...|         0|\n",
            "|     184.0|(299,[184],[1.0])|                 233.0|               2.0|                 8808.0|                          32.0|                   5977.0|               463.0|                 0.2|         1|\n",
            "|     184.0|(299,[184],[1.0])|                  79.0|               7.0|                 8914.0|                          15.0|                    229.0|               477.0|-0.08249999999999999|         0|\n",
            "|     184.0|(299,[184],[1.0])|                   0.0|               4.0|                  848.0|                           0.0|                    441.0|               314.0|                 0.3|         1|\n",
            "|     184.0|(299,[184],[1.0])|                  30.0|               5.0|                12075.0|                           0.0|                   7587.0|               443.0| 0.05833333333333333|         1|\n",
            "|     184.0|(299,[184],[1.0])|                  20.0|               1.0|                11012.0|                         164.0|                   3498.0|               544.0|                 0.5|         1|\n",
            "|     184.0|(299,[184],[1.0])|                   0.0|               1.0|                11786.0|                           0.0|                   1247.0|               501.0| 0.18095238095238095|         1|\n",
            "|     184.0|(299,[184],[1.0])|                  27.0|               6.0|                 6097.0|                           0.0|                    422.0|               534.0|                 0.0|         1|\n",
            "|     184.0|(299,[184],[1.0])|                   0.0|               3.0|                11097.0|                           0.0|                   9983.0|             19562.0|           -0.184375|1689884591|\n",
            "|     184.0|(299,[184],[1.0])|                   0.0|               2.0|                79095.0|                           0.0|                  54971.0|               611.0|                 0.0|         1|\n",
            "|     184.0|(299,[184],[1.0])|                   0.0|               2.0|                 2016.0|                           0.0|                   1125.0|               678.0|                 0.0|         0|\n",
            "|     184.0|(299,[184],[1.0])|                   0.0|              16.0|                  729.0|                           0.0|                    207.0|                28.0|                 0.3|         1|\n",
            "|     184.0|(299,[184],[1.0])|                   0.0|               1.0|                 2605.0|                           0.0|                   1445.0|               865.0|                 0.3|         1|\n",
            "+----------+-----------------+----------------------+------------------+-----------------------+------------------------------+-------------------------+--------------------+--------------------+----------+\n",
            "only showing top 20 rows\n",
            "\n",
            "root\n",
            " |-- game_index: double (nullable = false)\n",
            " |-- game_onehot: vector (nullable = true)\n",
            " |-- author_num_games_owned: double (nullable = true)\n",
            " |-- author_num_reviews: double (nullable = true)\n",
            " |-- author_playtime_forever: double (nullable = true)\n",
            " |-- author_playtime_last_two_weeks: double (nullable = true)\n",
            " |-- author_playtime_at_review: double (nullable = true)\n",
            " |-- days_since_last_play: double (nullable = true)\n",
            " |-- sentiment_score: double (nullable = true)\n",
            " |-- voted_up: integer (nullable = true)\n",
            "\n"
          ]
        },
        {
          "name": "stderr",
          "output_type": "stream",
          "text": [
            "\r",
            "[Stage 13:>                                                         (0 + 1) / 1]\r",
            "\r",
            "                                                                                \r"
          ]
        }
      ],
      "source": [
        "# Clean the DataFrame (drop nulls and duplicates)\n",
        "cleaned_reviews_df = reviews_df.dropna().dropDuplicates()\n",
        "\n",
        "# Convert specific numeric columns to DoubleType\n",
        "numeric_columns = [\n",
        "    \"author_num_games_owned\",\n",
        "    \"author_num_reviews\",\n",
        "    \"author_playtime_forever\",\n",
        "    \"author_playtime_last_two_weeks\",\n",
        "    \"author_playtime_at_review\",\n",
        "    \"days_since_last_play\",\n",
        "    \"sentiment_score\",\n",
        "]\n",
        "\n",
        "for col_name in numeric_columns:\n",
        "    cleaned_reviews_df = cleaned_reviews_df.withColumn(col_name, col(col_name).cast(DoubleType()))\n",
        "\n",
        "# Index and One-Hot Encode the 'game' column\n",
        "game_indexer = StringIndexer(inputCol=\"game\", outputCol=\"game_index\")\n",
        "game_encoder = OneHotEncoder(inputCol=\"game_index\", outputCol=\"game_onehot\")\n",
        "\n",
        "# Create a pipeline for encoding\n",
        "pipeline = Pipeline(stages=[game_indexer, game_encoder])\n",
        "\n",
        "# Fit and transform the cleaned DataFrame\n",
        "encoded_df = pipeline.fit(cleaned_reviews_df).transform(cleaned_reviews_df)\n",
        "\n",
        "# Select only the useful columns\n",
        "final_df = encoded_df.select(\n",
        "    \"game\",\n",
        "    \"game_index\",\n",
        "    \"game_onehot\",\n",
        "    \"author_num_games_owned\",\n",
        "    \"author_num_reviews\",\n",
        "    \"author_playtime_forever\",\n",
        "    \"author_playtime_last_two_weeks\",\n",
        "    \"author_playtime_at_review\",\n",
        "    \"days_since_last_play\",\n",
        "    \"sentiment_score\",\n",
        "    \"votes_up\",\n",
        "    \"voted_up\"\n",
        ")\n",
        "\n",
        "# Show the resulting DataFrame\n",
        "final_df.show()\n",
        "\n",
        "# Optional: Verify the schema\n",
        "final_df.printSchema()\n"
      ]
    },
    {
      "cell_type": "code",
      "execution_count": null,
      "id": "38cdc0a7",
      "metadata": {
        "id": "38cdc0a7",
        "outputId": "3d7c0e8f-57b1-4f41-c097-9a35b19f3229"
      },
      "outputs": [
        {
          "name": "stderr",
          "output_type": "stream",
          "text": [
            "[Stage 16:>                                                         (0 + 1) / 1]\r"
          ]
        },
        {
          "name": "stdout",
          "output_type": "stream",
          "text": [
            "+----------+---------------+----------------------+------------------+-----------------------+------------------------------+-------------------------+--------------------+--------------------+--------+--------------------+\n",
            "|game_index|    game_onehot|author_num_games_owned|author_num_reviews|author_playtime_forever|author_playtime_last_two_weeks|author_playtime_at_review|days_since_last_play|     sentiment_score|voted_up|            features|\n",
            "+----------+---------------+----------------------+------------------+-----------------------+------------------------------+-------------------------+--------------------+--------------------+--------+--------------------+\n",
            "|       4.0|(299,[4],[1.0])|                   0.0|               9.0|                 4789.0|                          48.0|                   2683.0|              2310.0|                 0.0|       1|(308,[0,5,301,302...|\n",
            "|       4.0|(299,[4],[1.0])|                 195.0|               5.0|                 8780.0|                           0.0|                   2140.0|              2028.0|              -0.325|       1|(308,[0,5,300,301...|\n",
            "|       4.0|(299,[4],[1.0])|                 203.0|               4.0|                 6565.0|                           0.0|                   4421.0|              1728.0|                 0.0|       0|(308,[0,5,300,301...|\n",
            "|       4.0|(299,[4],[1.0])|                 203.0|               6.0|                10301.0|                           0.0|                   4182.0|              2153.0| 0.14999999999999997|       0|(308,[0,5,300,301...|\n",
            "|       4.0|(299,[4],[1.0])|                   0.0|               2.0|                14506.0|                           0.0|                   9862.0|              2094.0| -0.1238095238095238|       0|(308,[0,5,301,302...|\n",
            "|       4.0|(299,[4],[1.0])|                   0.0|              10.0|                25249.0|                           0.0|                  19467.0|              1732.0|                 0.0|       0|(308,[0,5,301,302...|\n",
            "|       4.0|(299,[4],[1.0])|                  96.0|              10.0|                19677.0|                           0.0|                  14771.0|              2196.0| -0.2111111111111111|       0|(308,[0,5,300,301...|\n",
            "|       4.0|(299,[4],[1.0])|                   0.0|              16.0|                 7251.0|                           0.0|                   1849.0|               759.0| 0.09999999999999999|       1|(308,[0,5,301,302...|\n",
            "|       4.0|(299,[4],[1.0])|                   0.0|               5.0|                 2492.0|                           0.0|                   2492.0|               644.0|                 0.0|       0|(308,[0,5,301,302...|\n",
            "|       4.0|(299,[4],[1.0])|                 758.0|               7.0|                17215.0|                           0.0|                   4447.0|              2201.0|-0.05000000000000002|       0|(308,[0,5,300,301...|\n",
            "+----------+---------------+----------------------+------------------+-----------------------+------------------------------+-------------------------+--------------------+--------------------+--------+--------------------+\n",
            "only showing top 10 rows\n",
            "\n"
          ]
        },
        {
          "name": "stderr",
          "output_type": "stream",
          "text": [
            "\r",
            "                                                                                \r"
          ]
        }
      ],
      "source": [
        "# Assemble features\n",
        "from pyspark.ml.feature import VectorAssembler\n",
        "\n",
        "assembler = VectorAssembler(\n",
        "    inputCols=[\n",
        "    \"game\"\n",
        "    \"game_index\",\n",
        "    \"game_onehot\",\n",
        "    \"author_num_games_owned\",\n",
        "    \"author_num_reviews\",\n",
        "    \"author_playtime_forever\",\n",
        "    \"author_playtime_last_two_weeks\",\n",
        "    \"author_playtime_at_review\",\n",
        "    \"days_since_last_play\",\n",
        "    \"sentiment_score\",\n",
        "    \"votes_up\",\n",
        "    \"voted_up\"\n",
        "],\n",
        "    outputCol=\"features\"\n",
        ")\n",
        "\n",
        "final_assembled_df = assembler.transform(final_df)\n",
        "\n",
        "final_assembled_df.show(10)"
      ]
    },
    {
      "cell_type": "code",
      "execution_count": null,
      "id": "9deedc58",
      "metadata": {
        "id": "9deedc58",
        "outputId": "5f5498f9-7f8f-433f-d735-b24b7cb18ce7"
      },
      "outputs": [
        {
          "name": "stderr",
          "output_type": "stream",
          "text": [
            "                                                                                \r"
          ]
        },
        {
          "name": "stdout",
          "output_type": "stream",
          "text": [
            "Reviews With Features saved to gs://my-bigdata-project-bl/trusted2/final_assembled.parquet\n"
          ]
        }
      ],
      "source": [
        "# Define the GCS path for the trusted folder\n",
        "trusted2_folder_path = \"gs://my-bigdata-project-bl/trusted2/final_assembled.parquet\"\n",
        "\n",
        "# Save the DataFrame to the trusted folder in Parquet format\n",
        "final_assembled_df.write.mode(\"overwrite\").parquet(trusted2_folder_path)\n",
        "\n",
        "print(f\"Reviews With Features saved to {trusted2_folder_path}\")"
      ]
    },
    {
      "cell_type": "code",
      "execution_count": null,
      "id": "43394552",
      "metadata": {
        "id": "43394552"
      },
      "outputs": [],
      "source": []
    }
  ],
  "metadata": {
    "kernelspec": {
      "display_name": "PySpark",
      "language": "python",
      "name": "pyspark"
    },
    "language_info": {
      "codemirror_mode": {
        "name": "ipython",
        "version": 3
      },
      "file_extension": ".py",
      "mimetype": "text/x-python",
      "name": "python",
      "nbconvert_exporter": "python",
      "pygments_lexer": "ipython3",
      "version": "3.11.8"
    },
    "colab": {
      "provenance": []
    }
  },
  "nbformat": 4,
  "nbformat_minor": 5
}