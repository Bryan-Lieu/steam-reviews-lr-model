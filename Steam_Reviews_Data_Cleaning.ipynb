{
  "cells": [
    {
      "cell_type": "code",
      "execution_count": null,
      "id": "17e6ffe1",
      "metadata": {
        "id": "17e6ffe1",
        "outputId": "9ff243e7-306d-4379-ec86-5b5c786e63ce"
      },
      "outputs": [
        {
          "name": "stderr",
          "output_type": "stream",
          "text": [
            "                                                                                \r"
          ]
        }
      ],
      "source": [
        "#from pyspark.sql import SparkSession\n",
        "from pyspark.sql.functions import col\n",
        "from pyspark.sql.types import StructType, StructField, IntegerType, StringType, LongType\n",
        "\n",
        "# Initialize Spark session\n",
        "#spark = SparkSession.builder \\\n",
        "    #.appName(\"Data Cleaning\") \\\n",
        "    #.getOrCreate()\n",
        "\n",
        "# Define schema\n",
        "schema = StructType([\n",
        "    StructField(\"recommendationid\", LongType(), True),\n",
        "    StructField(\"appid\", IntegerType(), True),\n",
        "    StructField(\"game\", StringType(), True),\n",
        "    StructField(\"author_steamid\", StringType(), True),\n",
        "    StructField(\"author_num_games_owned\", IntegerType(), True),\n",
        "    StructField(\"author_num_reviews\", IntegerType(), True),\n",
        "    StructField(\"author_playtime_forever\", IntegerType(), True),\n",
        "    StructField(\"author_playtime_last_two_weeks\", IntegerType(), True),\n",
        "    StructField(\"author_playtime_at_review\", IntegerType(), True),\n",
        "    StructField(\"author_last_played\", LongType(), True),\n",
        "    StructField(\"language\", StringType(), True),\n",
        "    StructField(\"review\", StringType(), True),\n",
        "    StructField(\"timestamp_created\", LongType(), True),\n",
        "    StructField(\"timestamp_updated\", LongType(), True),\n",
        "    StructField(\"voted_up\", IntegerType(), True),\n",
        "    StructField(\"votes_up\", IntegerType(), True),\n",
        "    StructField(\"votes_funny\", IntegerType(), True),\n",
        "    StructField(\"weighted_vote_score\", StringType(), True),\n",
        "    StructField(\"comment_count\", IntegerType(), True),\n",
        "    StructField(\"steam_purchase\", IntegerType(), True),\n",
        "    StructField(\"received_for_free\", IntegerType(), True),\n",
        "    StructField(\"written_during_early_access\", IntegerType(), True),\n",
        "    StructField(\"hidden_in_steam_china\", IntegerType(), True),\n",
        "    StructField(\"steam_china_location\", StringType(), True)\n",
        "])\n",
        "\n",
        "# Reading data from the landing folder\n",
        "input_path = \"gs://my-bigdata-project-bl/landing/all_reviews.csv\"\n",
        "sdf = spark.read.csv(input_path, schema=schema, header=True)\n",
        "\n",
        "# Cleaning column names by removing spaces\n",
        "sdf = sdf.select([col(column).alias(column.replace(\" \", \"_\")) for column in sdf.columns])\n",
        "\n",
        "# Dropping columns that are not needed\n",
        "columns_to_drop = [\n",
        "    'recommendationid',\n",
        "    'appid',\n",
        "    'author_steamid',\n",
        "    'timestamp_updated',\n",
        "    'hidden_in_steam_china',\n",
        "    'steam_china_location',\n",
        "    'votes_funny',\n",
        "    'comment_count',\n",
        "    'steam_purchase',\n",
        "    'received_for_free',\n",
        "    'written_during_early_access',\n",
        "    'weighted_vote_score'\n",
        "]\n",
        "\n",
        "sdf = sdf.drop(*columns_to_drop)\n",
        "\n",
        "# Filling in nulls or drop records with nulls\n",
        "sdf = sdf.na.fill({\n",
        "    'author_num_games_owned': 0,\n",
        "    'author_num_reviews': 0,\n",
        "    'author_playtime_forever': 0,\n",
        "    'author_playtime_last_two_weeks': 0,\n",
        "    'author_playtime_at_review': 0,\n",
        "    'author_last_played': 0,\n",
        "    'timestamp_created': 0,\n",
        "    'votes_up': 0,\n",
        "    'voted_up': 0\n",
        "}).na.drop()\n",
        "\n",
        "# Changing data types where ever necessary (ensure binary columns are integer type)\n",
        "sdf = sdf.withColumn(\"voted_up\", col(\"voted_up\").cast(IntegerType()))\n",
        "\n",
        "# Writing cleaned data to the cleaned folder as Parquet\n",
        "output_path = \"gs://my-bigdata-project-bl/cleaned/reviews_cleaned.parquet\"\n",
        "sdf.write.mode('overwrite').parquet(output_path)"
      ]
    },
    {
      "cell_type": "code",
      "execution_count": null,
      "id": "df60eedc",
      "metadata": {
        "scrolled": false,
        "id": "df60eedc",
        "outputId": "05741afc-e898-4c27-80f8-e6c7671ac298"
      },
      "outputs": [
        {
          "name": "stdout",
          "output_type": "stream",
          "text": [
            "root\n",
            " |-- game: string (nullable = true)\n",
            " |-- author_num_games_owned: integer (nullable = false)\n",
            " |-- author_num_reviews: integer (nullable = false)\n",
            " |-- author_playtime_forever: integer (nullable = false)\n",
            " |-- author_playtime_last_two_weeks: integer (nullable = false)\n",
            " |-- author_playtime_at_review: integer (nullable = false)\n",
            " |-- author_last_played: long (nullable = false)\n",
            " |-- language: string (nullable = true)\n",
            " |-- review: string (nullable = true)\n",
            " |-- timestamp_created: long (nullable = false)\n",
            " |-- voted_up: integer (nullable = false)\n",
            " |-- votes_up: integer (nullable = false)\n",
            "\n"
          ]
        }
      ],
      "source": [
        "# Print the schema to confirm data types\n",
        "sdf.printSchema()"
      ]
    },
    {
      "cell_type": "code",
      "execution_count": null,
      "id": "7d1d7891",
      "metadata": {
        "scrolled": false,
        "id": "7d1d7891",
        "outputId": "d9be5ff5-6539-48f4-f4ab-5362ce732a15"
      },
      "outputs": [
        {
          "name": "stderr",
          "output_type": "stream",
          "text": [
            "24/11/20 01:12:07 INFO SparkEnv: Registering MapOutputTracker\n",
            "24/11/20 01:12:07 INFO SparkEnv: Registering BlockManagerMaster\n",
            "24/11/20 01:12:07 INFO SparkEnv: Registering BlockManagerMasterHeartbeat\n",
            "24/11/20 01:12:07 INFO SparkEnv: Registering OutputCommitCoordinator\n",
            "                                                                                \r"
          ]
        },
        {
          "name": "stdout",
          "output_type": "stream",
          "text": [
            "+---------+----------------------+------------------+-----------------------+------------------------------+-------------------------+------------------+--------------------+-----------------+----------+----------+\n",
            "|     game|author_num_games_owned|author_num_reviews|author_playtime_forever|author_playtime_last_two_weeks|author_playtime_at_review|author_last_played|              review|timestamp_created|  voted_up|  votes_up|\n",
            "+---------+----------------------+------------------+-----------------------+------------------------------+-------------------------+------------------+--------------------+-----------------+----------+----------+\n",
            "|Stellaris|                   318|                 5|                  34545|                             0|                    14785|        1684526083|Stelleris is one ...|       1532260250|         1|         0|\n",
            "|Stellaris|                    67|                 1|                  24610|                             0|                    18695|        1602787789|\"Honestly this ga...|                0|1532253990|1532253990|\n",
            "|Stellaris|                     0|                19|                  68206|                            35|                    18287|        1697420832|One of the all ti...|       1532253888|         1|         2|\n",
            "|Stellaris|                     0|                 3|                  83452|                             0|                    54544|        1687700797|Stellaris is an a...|       1532252979|         1|         0|\n",
            "|Stellaris|                    11|                 2|                    984|                             0|                      974|        1521820241|\"Just today I saw...|                0|         0|         0|\n",
            "+---------+----------------------+------------------+-----------------------+------------------------------+-------------------------+------------------+--------------------+-----------------+----------+----------+\n",
            "only showing top 5 rows\n",
            "\n"
          ]
        }
      ],
      "source": [
        "# Specify the correct path to the Parquet file\n",
        "cleaned_parquet_path = \"gs://my-bigdata-project-bl/cleaned/reviews_cleaned.parquet/\"\n",
        "\n",
        "# Load the Parquet file\n",
        "reviews_df = spark.read.parquet(cleaned_parquet_path)\n",
        "\n",
        "# Filter the DataFrame to include only English reviews (assuming 'language' column exists)\n",
        "reviews_df = reviews_df.filter(reviews_df[\"language\"] == \"english\")\n",
        "\n",
        "# Drop the 'language' column\n",
        "reviews_df = reviews_df.drop(\"language\")\n",
        "\n",
        "# Show the first few rows to verify the data was loaded correctly\n",
        "reviews_df.show(5)\n"
      ]
    },
    {
      "cell_type": "code",
      "execution_count": null,
      "id": "fec1c958",
      "metadata": {
        "id": "fec1c958",
        "outputId": "6648a756-3e0f-4505-d8ef-758e38440e97"
      },
      "outputs": [
        {
          "name": "stderr",
          "output_type": "stream",
          "text": [
            "[Stage 2:======================================================>(157 + 1) / 158]\r"
          ]
        },
        {
          "name": "stdout",
          "output_type": "stream",
          "text": [
            "+--------------------+---------+\n",
            "|                game|frequency|\n",
            "+--------------------+---------+\n",
            "|    Counter-Strike 2|  2129656|\n",
            "|            Terraria|   607534|\n",
            "|     Team Fortress 2|   599950|\n",
            "|Tom Clancy's Rain...|   552871|\n",
            "|  Grand Theft Auto V|   520192|\n",
            "|                Rust|   507065|\n",
            "|         Garry's Mod|   506496|\n",
            "|            Among Us|   397216|\n",
            "| PUBG: BATTLEGROUNDS|   395084|\n",
            "|          ELDEN RING|   379213|\n",
            "|        Apex Legends|   354954|\n",
            "|        Phasmophobia|   333145|\n",
            "|           Destiny 2|   327691|\n",
            "|      Stardew Valley|   316343|\n",
            "|ARK: Survival Evo...|   296160|\n",
            "|       Rocket League|   290316|\n",
            "|      Cyberpunk 2077|   280468|\n",
            "|    Dead by Daylight|   268536|\n",
            "|            PAYDAY 2|   254409|\n",
            "|       Left 4 Dead 2|   247374|\n",
            "+--------------------+---------+\n",
            "only showing top 20 rows\n",
            "\n"
          ]
        },
        {
          "name": "stderr",
          "output_type": "stream",
          "text": [
            "\r",
            "[Stage 4:=================================>                         (4 + 3) / 7]\r",
            "\r",
            "                                                                                \r"
          ]
        }
      ],
      "source": [
        "# Limit the Reviews to the top 300 games\n",
        "from pyspark.sql.functions import count\n",
        "\n",
        "# Count Game review frequency and sort\n",
        "game_frequency_sdf = reviews_df.groupBy(\"game\").agg(count(\"game\").alias(\"frequency\")).orderBy(\"frequency\", ascending=False)\n",
        "\n",
        "# Show result\n",
        "game_frequency_sdf.show()"
      ]
    },
    {
      "cell_type": "code",
      "execution_count": null,
      "id": "8d711d46",
      "metadata": {
        "id": "8d711d46",
        "outputId": "2337295b-98e1-4c34-8899-e102f71c8343"
      },
      "outputs": [
        {
          "name": "stderr",
          "output_type": "stream",
          "text": [
            "[Stage 9:>                                                          (0 + 1) / 1]\r"
          ]
        },
        {
          "name": "stdout",
          "output_type": "stream",
          "text": [
            "+---------+----------------------+------------------+-----------------------+------------------------------+-------------------------+------------------+--------------------+-----------------+----------+----------+---------+\n",
            "|     game|author_num_games_owned|author_num_reviews|author_playtime_forever|author_playtime_last_two_weeks|author_playtime_at_review|author_last_played|              review|timestamp_created|  voted_up|  votes_up|frequency|\n",
            "+---------+----------------------+------------------+-----------------------+------------------------------+-------------------------+------------------+--------------------+-----------------+----------+----------+---------+\n",
            "|Stellaris|                   318|                 5|                  34545|                             0|                    14785|        1684526083|Stelleris is one ...|       1532260250|         1|         0|    84603|\n",
            "|Stellaris|                    67|                 1|                  24610|                             0|                    18695|        1602787789|\"Honestly this ga...|                0|1532253990|1532253990|    84603|\n",
            "|Stellaris|                     0|                19|                  68206|                            35|                    18287|        1697420832|One of the all ti...|       1532253888|         1|         2|    84603|\n",
            "|Stellaris|                     0|                 3|                  83452|                             0|                    54544|        1687700797|Stellaris is an a...|       1532252979|         1|         0|    84603|\n",
            "|Stellaris|                    11|                 2|                    984|                             0|                      974|        1521820241|\"Just today I saw...|                0|         0|         0|    84603|\n",
            "|Stellaris|                     0|                 7|                  12548|                             0|                    11279|        1686464308|1 - No sense to h...|       1532243705|         0|         0|    84603|\n",
            "|Stellaris|                   486|                23|                 161808|                             0|                    21606|        1696795564|Stellaris.  Its a...|       1532230510|         1|        12|    84603|\n",
            "|Stellaris|                     0|                39|                    596|                             0|                      596|        1532301087|A boring and tedi...|       1532227793|         0|         3|    84603|\n",
            "|Stellaris|                     0|                22|                   1633|                             0|                     1443|        1596310155|             Love it|       1532225872|         1|         0|    84603|\n",
            "|Stellaris|                   120|                10|                  27960|                             0|                     4394|        1672169553|An amazing game. ...|       1532209255|         1|         0|    84603|\n",
            "|Stellaris|                     0|                 1|                  65577|                          1229|                     5734|        1698240067|          Good game.|       1532204698|         1|         2|    84603|\n",
            "|Stellaris|                     0|                43|                  14600|                             0|                     3484|        1642540492|Steep learning cu...|       1532199205|         1|         0|    84603|\n",
            "|Stellaris|                   361|                63|                   5406|                             0|                     2220|        1660502681|The greatest Spac...|       1532199114|         1|         2|    84603|\n",
            "|Stellaris|                     0|                 6|                  13535|                             0|                     8310|        1588398098|               Good.|       1532198639|         1|         0|    84603|\n",
            "|Stellaris|                     0|                50|                  17172|                             0|                    11239|        1654970394|The population ch...|       1532197426|         0|         4|    84603|\n",
            "|Stellaris|                   492|                41|                  31780|                             2|                     6546|        1698247968|Planetary Genocid...|       1532197011|         1|         2|    84603|\n",
            "|Stellaris|                    86|                 3|                  14474|                             0|                     3793|        1692048422|First time in yea...|       1532189853|         1|         0|    84603|\n",
            "|Stellaris|                   181|                 9|                  41575|                             0|                    32159|        1692217559|Did you ever want...|       1532189016|         0|         0|    84603|\n",
            "|Stellaris|                     0|                11|                  51190|                             0|                    10907|        1690058983|it think right no...|       1532179224|         1|         1|    84603|\n",
            "|Stellaris|                     0|                 2|                  34615|                             0|                    20215|        1599295913|I honestly dont h...|       1532156314|         1|         1|    84603|\n",
            "+---------+----------------------+------------------+-----------------------+------------------------------+-------------------------+------------------+--------------------+-----------------+----------+----------+---------+\n",
            "only showing top 20 rows\n",
            "\n"
          ]
        },
        {
          "name": "stderr",
          "output_type": "stream",
          "text": [
            "\r",
            "                                                                                \r"
          ]
        }
      ],
      "source": [
        "# Get the top 300 reviewed games\n",
        "top_300_games_sdf = game_frequency_sdf.limit(300)\n",
        "\n",
        "# Filter original DataFrame by doing an inner join with the top_300_games_sdf on 'game' column\n",
        "top_300_reviews_sdf = reviews_df.join(top_300_games_sdf, \"game\")\n",
        "\n",
        "# Show the result\n",
        "top_300_reviews_sdf.show()"
      ]
    },
    {
      "cell_type": "code",
      "execution_count": null,
      "id": "cd73dec0",
      "metadata": {
        "id": "cd73dec0",
        "outputId": "5c3293a1-a70f-4731-dce2-ca89ae002b71"
      },
      "outputs": [
        {
          "name": "stderr",
          "output_type": "stream",
          "text": [
            "                                                                                \r"
          ]
        },
        {
          "name": "stdout",
          "output_type": "stream",
          "text": [
            "Filtered English reviews for top 300 games saved to gs://my-bigdata-project-bl/cleaned/top_300_reviews.parquet\n"
          ]
        }
      ],
      "source": [
        "# Save the resulting DataFrame to a Parquet file\n",
        "output_path = \"gs://my-bigdata-project-bl/cleaned/top_300_reviews.parquet\"\n",
        "top_300_reviews_sdf.write.mode(\"overwrite\").parquet(output_path)\n",
        "\n",
        "print(f\"Filtered English reviews for top 300 games saved to {output_path}\")"
      ]
    },
    {
      "cell_type": "code",
      "execution_count": null,
      "id": "c1df1f91",
      "metadata": {
        "id": "c1df1f91"
      },
      "outputs": [],
      "source": []
    }
  ],
  "metadata": {
    "kernelspec": {
      "display_name": "PySpark",
      "language": "python",
      "name": "pyspark"
    },
    "language_info": {
      "codemirror_mode": {
        "name": "ipython",
        "version": 3
      },
      "file_extension": ".py",
      "mimetype": "text/x-python",
      "name": "python",
      "nbconvert_exporter": "python",
      "pygments_lexer": "ipython3",
      "version": "3.11.8"
    },
    "colab": {
      "provenance": []
    }
  },
  "nbformat": 4,
  "nbformat_minor": 5
}